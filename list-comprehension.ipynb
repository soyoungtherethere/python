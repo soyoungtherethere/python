{
 "cells": [
  {
   "cell_type": "code",
   "execution_count": 4,
   "metadata": {},
   "outputs": [
    {
     "name": "stdout",
     "output_type": "stream",
     "text": [
      "The memory_profiler extension is already loaded. To reload it, use:\n",
      "  %reload_ext memory_profiler\n",
      "peak memory: 137.09 MiB, increment: 36.47 MiB\n"
     ]
    }
   ],
   "source": [
    "#출처: https://www.youtube.com/watch?v=5TQ4jm9BxTI&list=PLXziV1DL41ojhfghjtP_jrU03iYy0vJZe&index=23\n",
    "\n",
    "%load_ext memory_profiler\n",
    "\n",
    "a = []\n",
    "for i in range(1000000):\n",
    "    a.append(i)\n",
    "    \n",
    "def for_loop():\n",
    "    b = []\n",
    "    for i in a:\n",
    "        b.append(i*2)\n",
    "    return b\n",
    "\n",
    "%memit for_loop()"
   ]
  },
  {
   "cell_type": "code",
   "execution_count": 2,
   "metadata": {},
   "outputs": [
    {
     "name": "stdout",
     "output_type": "stream",
     "text": [
      "peak memory: 127.12 MiB, increment: 36.95 MiB\n"
     ]
    }
   ],
   "source": [
    "%reload_ext memory_profiler\n",
    "\n",
    "a = []\n",
    "for i in range(1000000):\n",
    "    a.append(i)\n",
    "    \n",
    "def list_comprehension(a):\n",
    "    b = [i*2 for i in a]\n",
    "    return b\n",
    "\n",
    "%memit list_comprehension(a)"
   ]
  },
  {
   "cell_type": "code",
   "execution_count": 3,
   "metadata": {},
   "outputs": [
    {
     "name": "stdout",
     "output_type": "stream",
     "text": [
      "peak memory: 71.79 MiB, increment: 3.81 MiB\n"
     ]
    }
   ],
   "source": [
    "import numpy as np\n",
    "\n",
    "%reload_ext memory_profiler\n",
    "\n",
    "a = []\n",
    "for i in range(1000000):\n",
    "    a.append(i)\n",
    "a=np.array(a)\n",
    "\n",
    "def np_method(a):\n",
    "    b=a*2\n",
    "    return b\n",
    "\n",
    "%memit np_method(a)"
   ]
  },
  {
   "cell_type": "markdown",
   "metadata": {},
   "source": [
    "## transform sequence"
   ]
  },
  {
   "cell_type": "code",
   "execution_count": 7,
   "metadata": {},
   "outputs": [
    {
     "name": "stdout",
     "output_type": "stream",
     "text": [
      "[-1, 4, -3, 16, -5, 36, -7, 64, -9, 100]\n"
     ]
    }
   ],
   "source": [
    "a = [1,2,3,4,5,6,7,8,9,10]\n",
    "b = [i**2 if i%2 == 0 else -i for i in a] #if else filter\n",
    "print(b)"
   ]
  },
  {
   "cell_type": "markdown",
   "metadata": {},
   "source": [
    "## transform sequence sequence\n",
    "letter과 num을 묶어 가능한 모든 페어를 모아 리스트 만들기"
   ]
  },
  {
   "cell_type": "code",
   "execution_count": 8,
   "metadata": {},
   "outputs": [
    {
     "name": "stdout",
     "output_type": "stream",
     "text": [
      "[('a', 0), ('a', 1), ('a', 2), ('b', 0), ('b', 1), ('b', 2)]\n"
     ]
    }
   ],
   "source": [
    "x = []\n",
    "for letter in 'ab':\n",
    "    for num in range(3):\n",
    "        x.append((letter,num))\n",
    "print(x)"
   ]
  }
 ],
 "metadata": {
  "kernelspec": {
   "display_name": "Python 3",
   "language": "python",
   "name": "python3"
  },
  "language_info": {
   "codemirror_mode": {
    "name": "ipython",
    "version": 3
   },
   "file_extension": ".py",
   "mimetype": "text/x-python",
   "name": "python",
   "nbconvert_exporter": "python",
   "pygments_lexer": "ipython3",
   "version": "3.7.6"
  }
 },
 "nbformat": 4,
 "nbformat_minor": 4
}
