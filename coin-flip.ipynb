{
 "cells": [
  {
   "cell_type": "code",
   "execution_count": 10,
   "metadata": {},
   "outputs": [
    {
     "name": "stdout",
     "output_type": "stream",
     "text": [
      "[1 0 1 0 1 0 0 0 0 1]\n"
     ]
    }
   ],
   "source": [
    "import numpy as np\n",
    "\n",
    "np.random.seed(337)\n",
    "\n",
    "p = 0.5 # 앞면 나올 확률\n",
    "\n",
    "n = 10\n",
    "\n",
    "uniform_flip = np.random.uniform(0.,1.,(n,))\n",
    "\n",
    "coin_flip=np.zeros_like(uniform_flip).astype(np.int32)\n",
    "\n",
    "coin_flip[uniform_flip>1-p] = 1\n",
    "\n",
    "# 뒷면 나올 확률보다 난수가 크면 (앞면이면) 1로 한다 \n",
    "\n",
    "print(coin_flip)"
   ]
  }
 ],
 "metadata": {
  "kernelspec": {
   "display_name": "Python 3",
   "language": "python",
   "name": "python3"
  },
  "language_info": {
   "codemirror_mode": {
    "name": "ipython",
    "version": 3
   },
   "file_extension": ".py",
   "mimetype": "text/x-python",
   "name": "python",
   "nbconvert_exporter": "python",
   "pygments_lexer": "ipython3",
   "version": "3.7.6"
  }
 },
 "nbformat": 4,
 "nbformat_minor": 4
}
